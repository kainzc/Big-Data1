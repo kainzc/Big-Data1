{
  "nbformat": 4,
  "nbformat_minor": 0,
  "metadata": {
    "colab": {
      "name": "mlb.ipynb",
      "provenance": [],
      "include_colab_link": true
    },
    "kernelspec": {
      "name": "python3",
      "display_name": "Python 3"
    }
  },
  "cells": [
    {
      "cell_type": "markdown",
      "metadata": {
        "id": "view-in-github",
        "colab_type": "text"
      },
      "source": [
        "<a href=\"https://colab.research.google.com/github/kainzc/Big-Data1/blob/main/mlb.ipynb\" target=\"_parent\"><img src=\"https://colab.research.google.com/assets/colab-badge.svg\" alt=\"Open In Colab\"/></a>"
      ]
    },
    {
      "cell_type": "markdown",
      "metadata": {
        "id": "tZx1yJL5y4j_"
      },
      "source": [
        "Follow these steps and complete the queries listed below after testing them through SQL Workbench\n"
      ]
    },
    {
      "cell_type": "code",
      "metadata": {
        "id": "GC3Lt7fbM55e",
        "outputId": "92e25e77-fbe4-4c7e-a6df-277fae63f21d",
        "colab": {
          "base_uri": "https://localhost:8080/"
        }
      },
      "source": [
        "!pip install pymysql"
      ],
      "execution_count": 1,
      "outputs": [
        {
          "output_type": "stream",
          "name": "stdout",
          "text": [
            "Looking in indexes: https://pypi.org/simple, https://us-python.pkg.dev/colab-wheels/public/simple/\n",
            "Collecting pymysql\n",
            "  Downloading PyMySQL-1.0.2-py3-none-any.whl (43 kB)\n",
            "\u001b[2K     \u001b[90m━━━━━━━━━━━━━━━━━━━━━━━━━━━━━━━━━━━━━━━━\u001b[0m \u001b[32m43.8/43.8 KB\u001b[0m \u001b[31m2.4 MB/s\u001b[0m eta \u001b[36m0:00:00\u001b[0m\n",
            "\u001b[?25hInstalling collected packages: pymysql\n",
            "Successfully installed pymysql-1.0.2\n"
          ]
        }
      ]
    },
    {
      "cell_type": "code",
      "metadata": {
        "id": "c-2pqhzt8Uyb"
      },
      "source": [
        "#import required modules\n",
        "import subprocess\n",
        "import pymysql\n",
        "import math\n",
        "from getpass import getpass"
      ],
      "execution_count": null,
      "outputs": []
    },
    {
      "cell_type": "code",
      "metadata": {
        "id": "JJmQlZ7qzlDl",
        "outputId": "68bf921b-acc1-4e1c-b811-1daa763c0e65",
        "colab": {
          "base_uri": "https://localhost:8080/"
        }
      },
      "source": [
        "# Ensure you set these environment properties here.\n",
        "# We use getpass - so that they do not get saved into github\n",
        "# fill the userid\n",
        "dbhost='database-hw1.cvep6xuoudi4.us-east-1.rds.amazonaws.com' # paste the db host string - something like this database-1.cjcbghqlwnpl.us-east-1.rds.amazonaws.com here\n",
        "username=getpass('Enter Username Here: ')\n",
        "passwd=getpass('Enter Password Here: ')\n",
        "databasename='lahman' # change this if you imported the database with a different name"
      ],
      "execution_count": null,
      "outputs": [
        {
          "name": "stdout",
          "output_type": "stream",
          "text": [
            "Enter Username Here: ··········\n",
            "Enter Password Here: ··········\n"
          ]
        }
      ]
    },
    {
      "cell_type": "code",
      "metadata": {
        "id": "hYy0xgYiNTF4"
      },
      "source": [
        "# Let us define the base database class.\n",
        "# Make sure that you input the password through the form on the right\n",
        "# - but do not store the password back inthe github\n",
        "\n",
        "class DB:\n",
        "    def __init__(self):\n",
        "        try:\n",
        "          self.conn = pymysql.connect(\n",
        "              user=username,\n",
        "              password=passwd,\n",
        "              host=dbhost,\n",
        "              database = databasename\n",
        "          )\n",
        "\n",
        "        except Exception as e:\n",
        "            print(\"I am unable to connect to the database - bye \" + str(e))\n",
        "            exit()\n",
        "        print('Got a DB connection!- hurray')\n",
        "        self.cur = self.conn.cursor()\n",
        "\n",
        "    def cursor(self):\n",
        "        return self.cur\n",
        "\n",
        "    def getNewCursor(self):\n",
        "        return self.conn.cursor()\n",
        "\n",
        "    def connection(self):\n",
        "        return self.conn\n",
        "\n",
        "    def query(self, q):\n",
        "        self.cur.execute(q)\n",
        "        try:\n",
        "          return self.cur.fetchall()\n",
        "        except Exception as e:\n",
        "          print('no result to return')\n",
        "          return"
      ],
      "execution_count": null,
      "outputs": []
    },
    {
      "cell_type": "markdown",
      "source": [
        "The code below will try to connect with the database instance that you've connected in AWS. If, for some reason, this fails to connect (even though you've set up the username, host, password and etc correctly), then that probably means that your Amazon VPC security group is incorrectly configured to either not allow public access at all or only to allow public access from your system (and not colab). To remedy this, you'd have to follow following steps:\n",
        "\n",
        "1. Navigate to the dashboard of your RDS instance\n",
        "2. Find Connectivity & Security tab (this is usually active by default)\n",
        "3. Click the VPC security group under Security section\n",
        "4. Click \"security group ID\" link\n",
        "5. Go to \"Inbound Rules\"\n",
        "6. Click \"Edit Inbound Rules\"\n",
        "7. Under the Source setting, click \"Anywhere IPv4\"\n",
        "8. Click Save and wait for changes to take effect."
      ],
      "metadata": {
        "id": "33zBHZSpRJkw"
      }
    },
    {
      "cell_type": "code",
      "metadata": {
        "id": "riBzn0R10bBx",
        "outputId": "56b40ca3-264a-4ad3-d737-c2b6054136ad",
        "colab": {
          "base_uri": "https://localhost:8080/"
        }
      },
      "source": [
        "# Check that your connection is working correctly using this sample query\n",
        "db1 = DB() # we instantiate an oject of the DB class. This will call the constructor and it will attempt the connection\n",
        "\n",
        "# if the connection succeeded - the following should work\n",
        "\n",
        "q = 'use '+databasename+';' # note that database name was set above\n",
        "db1.query(q)\n",
        "q = 'show tables;' # lets see all tables\n",
        "res=db1.query(q)\n",
        "print(res) # shows the results.\n",
        "\n",
        "# Another way to get to all the results is to use a cursor that enables you to iterate over the results\n",
        "mycursor = db1.cursor()\n",
        "mycursor.execute('use '+databasename+';')\n",
        "mycursor.execute(\"show tables;\")\n",
        "myresult = mycursor.fetchall()\n",
        "print('Success! I ran a query and got {} results'.format(len(myresult)))\n",
        "for x in myresult:\n",
        "  print(x)"
      ],
      "execution_count": null,
      "outputs": [
        {
          "output_type": "stream",
          "name": "stdout",
          "text": [
            "Got a DB connection!- hurray\n",
            "(('allstarfull',), ('appearances',), ('awardsmanagers',), ('awardsplayers',), ('awardssharemanagers',), ('awardsshareplayers',), ('batting',), ('battingpost',), ('fielding',), ('fieldingof',), ('fieldingpost',), ('halloffame',), ('hofold',), ('managers',), ('managershalf',), ('master',), ('pitching',), ('pitchingpost',), ('salaries',), ('schools',), ('schoolsplayers',), ('seriespost',), ('teams',), ('teamsfranchises',), ('teamshalf',))\n",
            "Success! I ran a query and got 25 results\n",
            "('allstarfull',)\n",
            "('appearances',)\n",
            "('awardsmanagers',)\n",
            "('awardsplayers',)\n",
            "('awardssharemanagers',)\n",
            "('awardsshareplayers',)\n",
            "('batting',)\n",
            "('battingpost',)\n",
            "('fielding',)\n",
            "('fieldingof',)\n",
            "('fieldingpost',)\n",
            "('halloffame',)\n",
            "('hofold',)\n",
            "('managers',)\n",
            "('managershalf',)\n",
            "('master',)\n",
            "('pitching',)\n",
            "('pitchingpost',)\n",
            "('salaries',)\n",
            "('schools',)\n",
            "('schoolsplayers',)\n",
            "('seriespost',)\n",
            "('teams',)\n",
            "('teamsfranchises',)\n",
            "('teamshalf',)\n"
          ]
        }
      ]
    },
    {
      "cell_type": "markdown",
      "source": [
        "If everything works as intended. Then go ahead and implement the following queries.\n",
        "Again - test them first in mysql workbench. Then try it.\n",
        "\n",
        "1. The number of all stars in allstarfull.\n",
        "2. The most home runs in a season by a single player (using the batting table).\n",
        "3. The playerid of the player with the most home runs in a season.\n",
        "4. The number of leagues in the batting table.\n",
        "5. Barry Bond's average batting average (playerid = 'bondsba01') where batting average is hits / at-bats. Note you will nead to cast hits to get a decimal: cast(h as real)\n",
        "6. The teamid with the fewest hits in the year 2000 (ie., yearid = '2000'). Return both the teamid, and the number of hits. Note you can use ORDER BY column and LIMIT 1.\n",
        "7. The teamid in the year 2000 (i.e., yearid = '2000')  with the highest average batting average. Return the teamid and the average. To prevent divsion by 0, limit at-bats > 0.\n",
        "8. The number of all stars the giants (teamid = 'SFN') had in 2000.\n",
        "9. The yearid which the giants had the most all stars.\n",
        "10. The average salary in year 2000.\n",
        "11. The number of positions (e.g., catchers, pitchers) that have average salaries greather than 2000000 in yearid 2000. You will need to join fielding with salaries. Also consider using a HAVING clause.\n",
        "12. The number of errors Barry Bonds had in 2000. \n",
        "13. The average salary of all stars in 2000. # apply floor on the results. The final result should be an integer\n",
        "14. The average salary of non-all stars in 2000. # apply floor on the results. The final result should be an integer\n",
        "\n",
        "The tests for each query is below. You can try that."
      ],
      "metadata": {
        "id": "jaIW-ZXrOu55"
      }
    },
    {
      "cell_type": "code",
      "metadata": {
        "id": "Z-utpfszNUru"
      },
      "source": [
        "#As an example q1 and q3 and q9 have been already filled for you. \n",
        "#Note the use of group by https://www.w3schools.com/sql/sql_groupby.asp to categorize the data by player id and year.\n",
        "q1 = 'select count(*) from allstarfull;'\n",
        "q3 = 'select playerid from batting INNER Join (select MAX(HR) as m from batting) as data ON batting.hr=data.m'\n",
        "q9 = \"SELECT yearid FROM allstarfull WHERE teamid = 'SFN' group by yearid having count(distinct playerid)\\\n",
        "      =(select max(nump) from (SELECT yearid, count(distinct playerid) as nump FROM allstarfull WHERE teamid = 'SFN' group by yearid) as innertable)\""
      ],
      "execution_count": null,
      "outputs": []
    },
    {
      "cell_type": "code",
      "metadata": {
        "id": "t5J2wnqHNlRV"
      },
      "source": [
        "#Fill queries here\n",
        "\n",
        "q2 = 'select max(HR) from batting;'\n",
        "\n",
        "q4 = 'SELECT COUNT(DISTINCT lgID) as league_count from batting;'\n",
        "\n",
        "q5 = 'SELECT (sum(cast(H as real)) / (sum(cast(AB as real)))) AS barryAVG from batting WHERE playerID = \\'bondsba01\\';' #cast as REAL\n",
        "\n",
        "q6 = 'SELECT teamID, H FROM batting WHERE yearID = 2000 AND H IS NOT NULL ORDER BY H LIMIT 1;'\n",
        "\n",
        "\n",
        "q7 = 'SELECT teamID, AVG(cast(H as real) / cast(AB as real)) as batting_average FROM batting WHERE yearID = 2000 AND (AB > 0) GROUP BY teamID ORDER BY batting_average DESC LIMIT 1;' #cast as REAL\n",
        "\n",
        "\n",
        "q8 = 'SELECT count(*) FROM allstarfull WHERE teamID = \\'SFN\\' AND yearID = 2000;'\n",
        "\n",
        "\n",
        "q9 = \"SELECT yearid FROM allstarfull WHERE teamid = 'SFN' group by yearid having count(distinct playerid)\\\n",
        "      =(select max(nump) from (SELECT yearid, count(distinct playerid) as nump FROM allstarfull WHERE teamid = 'SFN' group by yearid) as innertable)\"\n",
        "\n",
        "#Applied a floor function as it appears the solution here uses one. \n",
        "q10 = 'SELECT floor((sum(salary) / count(*))) as mysalaries FROM salaries WHERE yearID = 2000;'\n",
        "\n",
        "#probably wrong\n",
        "q11 = 'SELECT COUNT(DISTINCT POS) as unique_positions FROM fielding JOIN salaries ON fielding.playerID = salaries.playerID AND fielding.yearID = salaries.yearID WHERE salary >= 200000 AND fielding.yearID = 2000;'\n",
        "\n",
        "\n",
        "q12 = ''\n",
        "\n",
        "\n",
        "q13 = '' # apply floor on the results. The final result should be an integer\n",
        "\n",
        "\n",
        "q14 = '' # apply floor on the results. The final result should be an integer\n",
        "\n"
      ],
      "execution_count": null,
      "outputs": []
    },
    {
      "cell_type": "code",
      "metadata": {
        "id": "nesycHbP2TNz"
      },
      "source": [
        "# just get the printout of all queries and save it\n",
        "for q in [q1, q2, q3, q4, q5, q6, q7, q8, q9, q10, q11, q12, q13, q14]:\n",
        "    print(q)\n",
        "    if q:   # do this only for non-empty queries i.e. only once you've filled it\n",
        "      res = db1.query(q)\n",
        "      print (res)\n"
      ],
      "execution_count": null,
      "outputs": []
    },
    {
      "cell_type": "markdown",
      "metadata": {
        "id": "-944wRz4ONk2"
      },
      "source": [
        "Run Each of these tests and show the results of your query."
      ]
    },
    {
      "cell_type": "code",
      "metadata": {
        "id": "NbRSv2gDOScv"
      },
      "source": [
        "def test_q1():\n",
        "    db = DB()\n",
        "    assert db.query(q1)[0][0] == 4834"
      ],
      "execution_count": null,
      "outputs": []
    },
    {
      "cell_type": "code",
      "metadata": {
        "id": "3Z8iyPx9Y6D7"
      },
      "source": [
        "def test_q2():\n",
        "    db = DB()\n",
        "    assert db.query(q2)[0][0] == 73"
      ],
      "execution_count": null,
      "outputs": []
    },
    {
      "cell_type": "code",
      "metadata": {
        "id": "E-Cf62JxY6oY"
      },
      "source": [
        "def test_q3():\n",
        "    db = DB()\n",
        "    assert db.query(q3)[0][0] == 'bondsba01'"
      ],
      "execution_count": null,
      "outputs": []
    },
    {
      "cell_type": "code",
      "metadata": {
        "id": "2JNSZ8K0Y8MI"
      },
      "source": [
        "def test_q4():\n",
        "    db = DB()\n",
        "    assert db.query(q4)[0][0] == 7"
      ],
      "execution_count": null,
      "outputs": []
    },
    {
      "cell_type": "code",
      "metadata": {
        "id": "Y9E7_KOMY9zY"
      },
      "source": [
        "def test_q5():\n",
        "    db = DB()\n",
        "    assert math.isclose(db.query(q5)[0][0], 0.298305762454545) or math.isclose(db.query(q5)[0][0], 0.29830576)\n",
        "\n",
        "#0.29830576 - this is also correct\n",
        "# "
      ],
      "execution_count": null,
      "outputs": []
    },
    {
      "cell_type": "code",
      "metadata": {
        "id": "_RQJ58SQZBkR"
      },
      "source": [
        "def test_q6():\n",
        "    db = DB()\n",
        "    assert db.query(q6)[0][0] == 'MIL'\n",
        "    assert db.query(q6)[0][1] == 1366"
      ],
      "execution_count": null,
      "outputs": []
    },
    {
      "cell_type": "code",
      "metadata": {
        "id": "h_nO4V2GZD2o"
      },
      "source": [
        "def test_q7():\n",
        "    db = DB()\n",
        "    assert db.query(q7)[0][0] == 'SEA'\n",
        "    print(db.query(q7)[0][1])\n",
        "    assert math.isclose(db.query(q7)[0][1], 0.28079655) or math.isclose(db.query(q7)[0][1], 0.2807991584890046)\n",
        "\n",
        "#Q7 0.2807991584890046 - is also correct"
      ],
      "execution_count": null,
      "outputs": []
    },
    {
      "cell_type": "code",
      "metadata": {
        "id": "tHXnXizMZFMw"
      },
      "source": [
        "def test_q8():\n",
        "    db = DB()\n",
        "    assert db.query(q8)[0][0] == 2"
      ],
      "execution_count": null,
      "outputs": []
    },
    {
      "cell_type": "code",
      "metadata": {
        "id": "Rk9C96EgZGsw"
      },
      "source": [
        "def test_q9():\n",
        "    db = DB()\n",
        "    assert db.query(q9)[0][0] in [1961, 1962, 1966]"
      ],
      "execution_count": null,
      "outputs": []
    },
    {
      "cell_type": "code",
      "metadata": {
        "id": "n5k73xhGZM6J"
      },
      "source": [
        "def test_q10():\n",
        "    db = DB()\n",
        "    assert int(db.query(q10)[0][0]) == 1992984"
      ],
      "execution_count": null,
      "outputs": []
    },
    {
      "cell_type": "code",
      "metadata": {
        "id": "fn_RjI-yZO7g"
      },
      "source": [
        "def test_q11():\n",
        "    db = DB()\n",
        "    assert db.query(q11)[0][0] == 3"
      ],
      "execution_count": null,
      "outputs": []
    },
    {
      "cell_type": "code",
      "metadata": {
        "id": "2rDASFGDZQY5"
      },
      "source": [
        "def test_q12():\n",
        "    db = DB()\n",
        "    assert db.query(q12)[0][0] in [3 ,6] # or 6"
      ],
      "execution_count": null,
      "outputs": []
    },
    {
      "cell_type": "code",
      "metadata": {
        "id": "4BTx1FKfZRtg"
      },
      "source": [
        "def test_q13():\n",
        "    db = DB()\n",
        "    assert int(db.query(q13)[0][0]) == 5388841\n",
        "# apply floor on the results"
      ],
      "execution_count": null,
      "outputs": []
    },
    {
      "cell_type": "code",
      "metadata": {
        "id": "cFwM4GFLZT7x"
      },
      "source": [
        "def test_q14():\n",
        "    db = DB()\n",
        "    assert int(db.query(q14)[0][0]) == 1692309"
      ],
      "execution_count": null,
      "outputs": []
    },
    {
      "cell_type": "code",
      "metadata": {
        "id": "v2IaEUCL71gc"
      },
      "source": [
        "# run these\n",
        "test_q1()\n",
        "print('Q1 - succesful')\n",
        "test_q2()\n",
        "print('Q2 - succesful')\n",
        "test_q3()\n",
        "print('Q3 - succesful')\n",
        "test_q4()\n",
        "print('Q4 - succesful')\n",
        "test_q5()\n",
        "print('Q5 - succesful')\n",
        "test_q6()\n",
        "print('Q6 - succesful')\n",
        "test_q7()\n",
        "print('Q7 - succesful')\n",
        "test_q8()\n",
        "print('Q8 - succesful')\n",
        "test_q9()\n",
        "print('Q9 - succesful')\n",
        "test_q10()\n",
        "print('Q10 - succesful')\n",
        "test_q11()\n",
        "print('Q11 - succesful')\n",
        "test_q12()\n",
        "print('Q12 - succesful')\n",
        "test_q13()\n",
        "print('Q13 - succesful')\n",
        "test_q14()\n",
        "print('Q14 - succesful')"
      ],
      "execution_count": null,
      "outputs": []
    },
    {
      "cell_type": "code",
      "metadata": {
        "id": "i75_5e3k223-"
      },
      "source": [
        "# Part 2: Use the profiling guide from brightspace and time each of the tests. Write code below to execute each test and log the time required to run the test."
      ],
      "execution_count": null,
      "outputs": []
    }
  ]
}